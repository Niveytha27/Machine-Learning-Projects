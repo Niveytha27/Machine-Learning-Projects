{
 "cells": [
  {
   "cell_type": "markdown",
   "metadata": {},
   "source": [
    "## Enron Dataset - Topic Modelling"
   ]
  },
  {
   "cell_type": "markdown",
   "metadata": {},
   "source": [
    "Enron dataset is having 500k records. For efficient memory usage, I am using sample of 10k records from Enron dataset to get the relevant topics."
   ]
  },
  {
   "cell_type": "markdown",
   "metadata": {},
   "source": [
    "### Splitting the data file into smaller files"
   ]
  },
  {
   "cell_type": "code",
   "execution_count": 1,
   "metadata": {},
   "outputs": [],
   "source": [
    "import pandas as pd\n",
    "import numpy as np\n",
    "import re\n",
    "import nltk"
   ]
  },
  {
   "cell_type": "code",
   "execution_count": 2,
   "metadata": {},
   "outputs": [],
   "source": [
    "#!mkdir split_files\n",
    "\n",
    "#file_num=1\n",
    "full_data=pd.read_csv(\"C:\\\\Users\\\\nivey\\\\Python\\\\NLP\\\\email_classification\\\\emails.csv\")\n",
    "email_subset = full_data.sample(frac=0.02, random_state=1)\n",
    "#for i in range(0,full_data.shape[0],10000):\n",
    "#    split_data=full_data.iloc[i:i+10000]\n",
    "#    split_data.to_csv('split_files/split_file_' + str(file_num) + '.csv',index=False) \n",
    "#    file_num+=1\n",
    "#data=pd.read_csv('C:\\\\Users\\\\nivey\\\\Python\\\\NLP\\\\email_classification\\\\Practice\\\\split_files\\\\split_file_1.csv')\n",
    "#data.head(2)"
   ]
  },
  {
   "cell_type": "markdown",
   "metadata": {},
   "source": [
    "### Data Cleaning\n",
    "\n",
    "Cleaning the data to process it using LDA model for getting relevant topics."
   ]
  },
  {
   "cell_type": "code",
   "execution_count": 3,
   "metadata": {},
   "outputs": [
    {
     "data": {
      "text/html": [
       "<div>\n",
       "<style scoped>\n",
       "    .dataframe tbody tr th:only-of-type {\n",
       "        vertical-align: middle;\n",
       "    }\n",
       "\n",
       "    .dataframe tbody tr th {\n",
       "        vertical-align: top;\n",
       "    }\n",
       "\n",
       "    .dataframe thead th {\n",
       "        text-align: right;\n",
       "    }\n",
       "</style>\n",
       "<table border=\"1\" class=\"dataframe\">\n",
       "  <thead>\n",
       "    <tr style=\"text-align: right;\">\n",
       "      <th></th>\n",
       "      <th>file</th>\n",
       "      <th>message</th>\n",
       "    </tr>\n",
       "  </thead>\n",
       "  <tbody>\n",
       "    <tr>\n",
       "      <th>186822</th>\n",
       "      <td>jones-t/all_documents/634.</td>\n",
       "      <td>Message-ID: &lt;17820178.1075846925335.JavaMail.e...</td>\n",
       "    </tr>\n",
       "    <tr>\n",
       "      <th>308790</th>\n",
       "      <td>mann-k/all_documents/5690.</td>\n",
       "      <td>Message-ID: &lt;29110382.1075845717882.JavaMail.e...</td>\n",
       "    </tr>\n",
       "    <tr>\n",
       "      <th>82383</th>\n",
       "      <td>dasovich-j/sent/423.</td>\n",
       "      <td>Message-ID: &lt;6812040.1075843194135.JavaMail.ev...</td>\n",
       "    </tr>\n",
       "    <tr>\n",
       "      <th>227299</th>\n",
       "      <td>kaminski-v/var/63.</td>\n",
       "      <td>Message-ID: &lt;21547648.1075856642126.JavaMail.e...</td>\n",
       "    </tr>\n",
       "    <tr>\n",
       "      <th>301824</th>\n",
       "      <td>mann-k/_sent_mail/3208.</td>\n",
       "      <td>Message-ID: &lt;12684200.1075846107179.JavaMail.e...</td>\n",
       "    </tr>\n",
       "  </tbody>\n",
       "</table>\n",
       "</div>"
      ],
      "text/plain": [
       "                              file  \\\n",
       "186822  jones-t/all_documents/634.   \n",
       "308790  mann-k/all_documents/5690.   \n",
       "82383         dasovich-j/sent/423.   \n",
       "227299          kaminski-v/var/63.   \n",
       "301824     mann-k/_sent_mail/3208.   \n",
       "\n",
       "                                                  message  \n",
       "186822  Message-ID: <17820178.1075846925335.JavaMail.e...  \n",
       "308790  Message-ID: <29110382.1075845717882.JavaMail.e...  \n",
       "82383   Message-ID: <6812040.1075843194135.JavaMail.ev...  \n",
       "227299  Message-ID: <21547648.1075856642126.JavaMail.e...  \n",
       "301824  Message-ID: <12684200.1075846107179.JavaMail.e...  "
      ]
     },
     "execution_count": 3,
     "metadata": {},
     "output_type": "execute_result"
    }
   ],
   "source": [
    "email_subset.head()"
   ]
  },
  {
   "cell_type": "code",
   "execution_count": 4,
   "metadata": {},
   "outputs": [],
   "source": [
    "def split_message_text(raw_message):\n",
    "    lines=raw_message.split('\\n')\n",
    "    email_info={}\n",
    "    keys_needed=['from','to']\n",
    "    combined_msg=''\n",
    "    for line in lines:\n",
    "        if ':' not in line:\n",
    "            combined_msg += line.strip()\n",
    "            email_info['email'] = combined_msg\n",
    "        else:\n",
    "            pairs=line.split(':')\n",
    "            keys=pairs[0].lower()\n",
    "            values=pairs[1].strip()\n",
    "            if keys in keys_needed:\n",
    "                email_info[keys]=values\n",
    "        \n",
    "    return email_info"
   ]
  },
  {
   "cell_type": "code",
   "execution_count": 5,
   "metadata": {},
   "outputs": [],
   "source": [
    "def get_email_content(messages):\n",
    "    email_content = [split_message_text(raw_message) for raw_message in messages]\n",
    "    return email_content"
   ]
  },
  {
   "cell_type": "code",
   "execution_count": 6,
   "metadata": {},
   "outputs": [],
   "source": [
    "email_df = pd.DataFrame(get_email_content(email_subset.message))"
   ]
  },
  {
   "cell_type": "code",
   "execution_count": 7,
   "metadata": {},
   "outputs": [
    {
     "data": {
      "text/html": [
       "<div>\n",
       "<style scoped>\n",
       "    .dataframe tbody tr th:only-of-type {\n",
       "        vertical-align: middle;\n",
       "    }\n",
       "\n",
       "    .dataframe tbody tr th {\n",
       "        vertical-align: top;\n",
       "    }\n",
       "\n",
       "    .dataframe thead th {\n",
       "        text-align: right;\n",
       "    }\n",
       "</style>\n",
       "<table border=\"1\" class=\"dataframe\">\n",
       "  <thead>\n",
       "    <tr style=\"text-align: right;\">\n",
       "      <th></th>\n",
       "      <th>from</th>\n",
       "      <th>to</th>\n",
       "      <th>email</th>\n",
       "    </tr>\n",
       "  </thead>\n",
       "  <tbody>\n",
       "    <tr>\n",
       "      <th>0</th>\n",
       "      <td>tana.jones@enron.com</td>\n",
       "      <td>alicia.goodrow@enron.com</td>\n",
       "      <td>It would be nice if you could be at my dinner,...</td>\n",
       "    </tr>\n",
       "    <tr>\n",
       "      <th>1</th>\n",
       "      <td>Sheila Tweed@ECT on 05/15/2001 06</td>\n",
       "      <td>Kay Mann/Corp/Enron@ENRON</td>\n",
       "      <td>Absolutely.Good point!  Can Peter start to dra...</td>\n",
       "    </tr>\n",
       "    <tr>\n",
       "      <th>2</th>\n",
       "      <td>jeff.dasovich@enron.com</td>\n",
       "      <td>christine.piesco@oracle.com</td>\n",
       "      <td>My apologies.  My schedule melted down after w...</td>\n",
       "    </tr>\n",
       "    <tr>\n",
       "      <th>3</th>\n",
       "      <td>tanya.tamarchenko@enron.com</td>\n",
       "      <td>Richard Lewis/LON/ECT@ECT, James New/LON/ECT@E...</td>\n",
       "      <td>Vince,UK VAR breached the limit last week.UK t...</td>\n",
       "    </tr>\n",
       "    <tr>\n",
       "      <th>4</th>\n",
       "      <td>kay.mann@enron.com</td>\n",
       "      <td>Don Hammond/PDX/ECT@ECT, Jody Blackburn/PDX/EC...</td>\n",
       "      <td>Any problems/comments?AM ---------------------...</td>\n",
       "    </tr>\n",
       "  </tbody>\n",
       "</table>\n",
       "</div>"
      ],
      "text/plain": [
       "                                from  \\\n",
       "0               tana.jones@enron.com   \n",
       "1  Sheila Tweed@ECT on 05/15/2001 06   \n",
       "2            jeff.dasovich@enron.com   \n",
       "3        tanya.tamarchenko@enron.com   \n",
       "4                 kay.mann@enron.com   \n",
       "\n",
       "                                                  to  \\\n",
       "0                           alicia.goodrow@enron.com   \n",
       "1                          Kay Mann/Corp/Enron@ENRON   \n",
       "2                        christine.piesco@oracle.com   \n",
       "3  Richard Lewis/LON/ECT@ECT, James New/LON/ECT@E...   \n",
       "4  Don Hammond/PDX/ECT@ECT, Jody Blackburn/PDX/EC...   \n",
       "\n",
       "                                               email  \n",
       "0  It would be nice if you could be at my dinner,...  \n",
       "1  Absolutely.Good point!  Can Peter start to dra...  \n",
       "2  My apologies.  My schedule melted down after w...  \n",
       "3  Vince,UK VAR breached the limit last week.UK t...  \n",
       "4  Any problems/comments?AM ---------------------...  "
      ]
     },
     "execution_count": 7,
     "metadata": {},
     "output_type": "execute_result"
    }
   ],
   "source": [
    "email_df.head()"
   ]
  },
  {
   "cell_type": "code",
   "execution_count": 8,
   "metadata": {},
   "outputs": [
    {
     "name": "stdout",
     "output_type": "stream",
     "text": [
      "<class 'pandas.core.frame.DataFrame'>\n",
      "RangeIndex: 10348 entries, 0 to 10347\n",
      "Data columns (total 3 columns):\n",
      " #   Column  Non-Null Count  Dtype \n",
      "---  ------  --------------  ----- \n",
      " 0   from    10348 non-null  object\n",
      " 1   to      9916 non-null   object\n",
      " 2   email   10348 non-null  object\n",
      "dtypes: object(3)\n",
      "memory usage: 242.7+ KB\n"
     ]
    }
   ],
   "source": [
    "email_df.info()"
   ]
  },
  {
   "cell_type": "code",
   "execution_count": 9,
   "metadata": {},
   "outputs": [],
   "source": [
    "# cleaning the text by removing the punctuations and making the text lower case\n",
    "email_df.email = email_df.email.apply(lambda x: pd.Series(re.sub(r'[^a-z\\s]', ' ',x.lower())))"
   ]
  },
  {
   "cell_type": "code",
   "execution_count": 10,
   "metadata": {},
   "outputs": [
    {
     "data": {
      "text/html": [
       "<div>\n",
       "<style scoped>\n",
       "    .dataframe tbody tr th:only-of-type {\n",
       "        vertical-align: middle;\n",
       "    }\n",
       "\n",
       "    .dataframe tbody tr th {\n",
       "        vertical-align: top;\n",
       "    }\n",
       "\n",
       "    .dataframe thead th {\n",
       "        text-align: right;\n",
       "    }\n",
       "</style>\n",
       "<table border=\"1\" class=\"dataframe\">\n",
       "  <thead>\n",
       "    <tr style=\"text-align: right;\">\n",
       "      <th></th>\n",
       "      <th>from</th>\n",
       "      <th>to</th>\n",
       "      <th>email</th>\n",
       "    </tr>\n",
       "  </thead>\n",
       "  <tbody>\n",
       "    <tr>\n",
       "      <th>0</th>\n",
       "      <td>tana.jones@enron.com</td>\n",
       "      <td>alicia.goodrow@enron.com</td>\n",
       "      <td>it would be nice if you could be at my dinner ...</td>\n",
       "    </tr>\n",
       "    <tr>\n",
       "      <th>1</th>\n",
       "      <td>Sheila Tweed@ECT on 05/15/2001 06</td>\n",
       "      <td>Kay Mann/Corp/Enron@ENRON</td>\n",
       "      <td>absolutely good point   can peter start to dra...</td>\n",
       "    </tr>\n",
       "    <tr>\n",
       "      <th>2</th>\n",
       "      <td>jeff.dasovich@enron.com</td>\n",
       "      <td>christine.piesco@oracle.com</td>\n",
       "      <td>my apologies   my schedule melted down after w...</td>\n",
       "    </tr>\n",
       "    <tr>\n",
       "      <th>3</th>\n",
       "      <td>tanya.tamarchenko@enron.com</td>\n",
       "      <td>Richard Lewis/LON/ECT@ECT, James New/LON/ECT@E...</td>\n",
       "      <td>vince uk var breached the limit last week uk t...</td>\n",
       "    </tr>\n",
       "    <tr>\n",
       "      <th>4</th>\n",
       "      <td>kay.mann@enron.com</td>\n",
       "      <td>Don Hammond/PDX/ECT@ECT, Jody Blackburn/PDX/EC...</td>\n",
       "      <td>any problems comments am                      ...</td>\n",
       "    </tr>\n",
       "  </tbody>\n",
       "</table>\n",
       "</div>"
      ],
      "text/plain": [
       "                                from  \\\n",
       "0               tana.jones@enron.com   \n",
       "1  Sheila Tweed@ECT on 05/15/2001 06   \n",
       "2            jeff.dasovich@enron.com   \n",
       "3        tanya.tamarchenko@enron.com   \n",
       "4                 kay.mann@enron.com   \n",
       "\n",
       "                                                  to  \\\n",
       "0                           alicia.goodrow@enron.com   \n",
       "1                          Kay Mann/Corp/Enron@ENRON   \n",
       "2                        christine.piesco@oracle.com   \n",
       "3  Richard Lewis/LON/ECT@ECT, James New/LON/ECT@E...   \n",
       "4  Don Hammond/PDX/ECT@ECT, Jody Blackburn/PDX/EC...   \n",
       "\n",
       "                                               email  \n",
       "0  it would be nice if you could be at my dinner ...  \n",
       "1  absolutely good point   can peter start to dra...  \n",
       "2  my apologies   my schedule melted down after w...  \n",
       "3  vince uk var breached the limit last week uk t...  \n",
       "4  any problems comments am                      ...  "
      ]
     },
     "execution_count": 10,
     "metadata": {},
     "output_type": "execute_result"
    }
   ],
   "source": [
    "email_df.head()"
   ]
  },
  {
   "cell_type": "code",
   "execution_count": 11,
   "metadata": {},
   "outputs": [],
   "source": [
    "content_clean_tokens = email_df.email.apply(lambda x: nltk.word_tokenize(x))"
   ]
  },
  {
   "cell_type": "code",
   "execution_count": 12,
   "metadata": {},
   "outputs": [
    {
     "data": {
      "text/plain": [
       "0        [it, would, be, nice, if, you, could, be, at, ...\n",
       "1        [absolutely, good, point, can, peter, start, t...\n",
       "2        [my, apologies, my, schedule, melted, down, af...\n",
       "3        [vince, uk, var, breached, the, limit, last, w...\n",
       "4        [any, problems, comments, am, dale, rasmussen,...\n",
       "                               ...                        \n",
       "10343    [attached, is, a, redline, with, the, changes,...\n",
       "10344    [for, your, review, forwarded, by, andy, zippe...\n",
       "10345    [hi, jerry, do, we, have, a, final, execution,...\n",
       "10346    [richard, shapiro, enron, com, david, parquet,...\n",
       "10347    [better, original, message, original, message,...\n",
       "Name: email, Length: 10348, dtype: object"
      ]
     },
     "execution_count": 12,
     "metadata": {},
     "output_type": "execute_result"
    }
   ],
   "source": [
    "content_clean_tokens"
   ]
  },
  {
   "cell_type": "code",
   "execution_count": 13,
   "metadata": {},
   "outputs": [],
   "source": [
    "# More cleaning by tokeinzing, removing stop words, detecting bigrams, lemmatization\n",
    "\n",
    "from nltk import word_tokenize\n",
    "from nltk.corpus import stopwords\n",
    "from gensim.models.phrases import Phraser,Phrases\n",
    "from nltk.stem import WordNetLemmatizer\n",
    "\n",
    "#bigram\n",
    "# input --> full_content - List(List)\n",
    "bigram = Phrases(content_clean_tokens,threshold=100,min_count=10)\n",
    "bigram_mod = Phraser(bigram)\n",
    "\n",
    "# stop_words function \n",
    "# input - list of tokenized words of each content\n",
    "# output - list of words without stop words\n",
    "stop_words = stopwords.words('english')\n",
    "stop_words.extend(['from', 'subject', 're','outlook','e','aa','ab','ac','yo','yr','yf','wr','u'])\n",
    "def stop_words_func(text):\n",
    "    return [word for word in text if word not in stop_words]\n",
    "\n",
    "# lemmatize function\n",
    "lem=WordNetLemmatizer()\n",
    "def lemmatize(text):\n",
    "    return [lem.lemmatize(w) for w in text]\n",
    "\n",
    "# Lemmatize function with pos_tag\n",
    "def lemmatize_pos(text):\n",
    "    pos_tag = nltk.pos_tag(text)\n",
    "    return [word for (word,pos) in pos_tag if pos[0] in ['J','N','V','R']]   \n",
    "\n",
    "# data_clean function\n",
    "def data_clean(content_list):\n",
    "    \n",
    "    content_list = [word for word in content_list if len(word) > 1]\n",
    "    content_list_bigram = bigram_mod[content_list]\n",
    "    content_list_nostop = stop_words_func(content_list_bigram)\n",
    "    content_list_Lemma = lemmatize(content_list_nostop)\n",
    "    content_list_pos = lemmatize_pos(content_list_Lemma)\n",
    "\n",
    "    return ' '.join(content_list_pos)"
   ]
  },
  {
   "cell_type": "code",
   "execution_count": 14,
   "metadata": {},
   "outputs": [],
   "source": [
    "email_df.email = email_df.email.apply(lambda x: data_clean(nltk.word_tokenize(x)))"
   ]
  },
  {
   "cell_type": "code",
   "execution_count": 15,
   "metadata": {},
   "outputs": [
    {
     "data": {
      "text/html": [
       "<div>\n",
       "<style scoped>\n",
       "    .dataframe tbody tr th:only-of-type {\n",
       "        vertical-align: middle;\n",
       "    }\n",
       "\n",
       "    .dataframe tbody tr th {\n",
       "        vertical-align: top;\n",
       "    }\n",
       "\n",
       "    .dataframe thead th {\n",
       "        text-align: right;\n",
       "    }\n",
       "</style>\n",
       "<table border=\"1\" class=\"dataframe\">\n",
       "  <thead>\n",
       "    <tr style=\"text-align: right;\">\n",
       "      <th></th>\n",
       "      <th>from</th>\n",
       "      <th>to</th>\n",
       "      <th>email</th>\n",
       "    </tr>\n",
       "  </thead>\n",
       "  <tbody>\n",
       "    <tr>\n",
       "      <th>0</th>\n",
       "      <td>tana.jones@enron.com</td>\n",
       "      <td>alicia.goodrow@enron.com</td>\n",
       "      <td>nice dinner probably knowanyone else anytime w...</td>\n",
       "    </tr>\n",
       "    <tr>\n",
       "      <th>1</th>\n",
       "      <td>Sheila Tweed@ECT on 05/15/2001 06</td>\n",
       "      <td>Kay Mann/Corp/Enron@ENRON</td>\n",
       "      <td>absolutely good point peter start draft overri...</td>\n",
       "    </tr>\n",
       "    <tr>\n",
       "      <th>2</th>\n",
       "      <td>jeff.dasovich@enron.com</td>\n",
       "      <td>christine.piesco@oracle.com</td>\n",
       "      <td>apology schedule melted talked monday swhere f...</td>\n",
       "    </tr>\n",
       "    <tr>\n",
       "      <th>3</th>\n",
       "      <td>tanya.tamarchenko@enron.com</td>\n",
       "      <td>Richard Lewis/LON/ECT@ECT, James New/LON/ECT@E...</td>\n",
       "      <td>vince uk var breached limit last week uk trade...</td>\n",
       "    </tr>\n",
       "    <tr>\n",
       "      <th>4</th>\n",
       "      <td>kay.mann@enron.com</td>\n",
       "      <td>Don Hammond/PDX/ECT@ECT, Jody Blackburn/PDX/EC...</td>\n",
       "      <td>problem comment dale_rasmussen ectmann corp en...</td>\n",
       "    </tr>\n",
       "  </tbody>\n",
       "</table>\n",
       "</div>"
      ],
      "text/plain": [
       "                                from  \\\n",
       "0               tana.jones@enron.com   \n",
       "1  Sheila Tweed@ECT on 05/15/2001 06   \n",
       "2            jeff.dasovich@enron.com   \n",
       "3        tanya.tamarchenko@enron.com   \n",
       "4                 kay.mann@enron.com   \n",
       "\n",
       "                                                  to  \\\n",
       "0                           alicia.goodrow@enron.com   \n",
       "1                          Kay Mann/Corp/Enron@ENRON   \n",
       "2                        christine.piesco@oracle.com   \n",
       "3  Richard Lewis/LON/ECT@ECT, James New/LON/ECT@E...   \n",
       "4  Don Hammond/PDX/ECT@ECT, Jody Blackburn/PDX/EC...   \n",
       "\n",
       "                                               email  \n",
       "0  nice dinner probably knowanyone else anytime w...  \n",
       "1  absolutely good point peter start draft overri...  \n",
       "2  apology schedule melted talked monday swhere f...  \n",
       "3  vince uk var breached limit last week uk trade...  \n",
       "4  problem comment dale_rasmussen ectmann corp en...  "
      ]
     },
     "execution_count": 15,
     "metadata": {},
     "output_type": "execute_result"
    }
   ],
   "source": [
    "email_df.head()"
   ]
  },
  {
   "cell_type": "code",
   "execution_count": 16,
   "metadata": {},
   "outputs": [],
   "source": [
    "# save to pickle\n",
    "email_df.to_pickle('corpus.pkl')"
   ]
  },
  {
   "cell_type": "code",
   "execution_count": 17,
   "metadata": {},
   "outputs": [],
   "source": [
    "email_df.to_csv('email_df.csv',index=False)"
   ]
  },
  {
   "cell_type": "code",
   "execution_count": null,
   "metadata": {},
   "outputs": [],
   "source": []
  }
 ],
 "metadata": {
  "kernelspec": {
   "display_name": "Python 3",
   "language": "python",
   "name": "python3"
  },
  "language_info": {
   "codemirror_mode": {
    "name": "ipython",
    "version": 3
   },
   "file_extension": ".py",
   "mimetype": "text/x-python",
   "name": "python",
   "nbconvert_exporter": "python",
   "pygments_lexer": "ipython3",
   "version": "3.8.5"
  }
 },
 "nbformat": 4,
 "nbformat_minor": 4
}
