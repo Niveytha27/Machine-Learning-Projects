{
 "cells": [
  {
   "cell_type": "markdown",
   "metadata": {},
   "source": [
    "## Enron Dataset - Topic Modelling"
   ]
  },
  {
   "cell_type": "markdown",
   "metadata": {},
   "source": [
    "Enron dataset is having 500k records. For efficient memory usage, I am using sample of 10k records from Enron dataset to get the relevant topics."
   ]
  },
  {
   "cell_type": "markdown",
   "metadata": {},
   "source": [
    "### Splitting the data file into smaller files"
   ]
  },
  {
   "cell_type": "code",
   "execution_count": 1,
   "metadata": {},
   "outputs": [],
   "source": [
    "# Imports\n",
    "import pandas as pd\n",
    "import numpy as np\n",
    "import re\n",
    "import nltk"
   ]
  },
  {
   "cell_type": "code",
   "execution_count": 2,
   "metadata": {},
   "outputs": [],
   "source": [
    "#!mkdir split_files\n",
    "\n",
    "#file_num=1\n",
    "full_data=pd.read_csv(\"C:\\\\Users\\\\nivey\\\\Python\\\\NLP\\\\email_classification\\\\emails.csv\")\n",
    "email_subset = full_data.sample(frac=0.02, random_state=1)\n",
    "#for i in range(0,full_data.shape[0],10000):\n",
    "#    split_data=full_data.iloc[i:i+10000]\n",
    "#    split_data.to_csv('split_files/split_file_' + str(file_num) + '.csv',index=False) \n",
    "#    file_num+=1\n",
    "#data=pd.read_csv('C:\\\\Users\\\\nivey\\\\Python\\\\NLP\\\\email_classification\\\\Practice\\\\split_files\\\\split_file_1.csv')\n",
    "#data.head(2)"
   ]
  },
  {
   "cell_type": "markdown",
   "metadata": {},
   "source": [
    "### Data Cleaning\n",
    "\n",
    "Cleaning the data to process it using LDA model for getting relevant topics."
   ]
  },
  {
   "cell_type": "code",
   "execution_count": 3,
   "metadata": {},
   "outputs": [
    {
     "data": {
      "text/html": [
       "<div>\n",
       "<style scoped>\n",
       "    .dataframe tbody tr th:only-of-type {\n",
       "        vertical-align: middle;\n",
       "    }\n",
       "\n",
       "    .dataframe tbody tr th {\n",
       "        vertical-align: top;\n",
       "    }\n",
       "\n",
       "    .dataframe thead th {\n",
       "        text-align: right;\n",
       "    }\n",
       "</style>\n",
       "<table border=\"1\" class=\"dataframe\">\n",
       "  <thead>\n",
       "    <tr style=\"text-align: right;\">\n",
       "      <th></th>\n",
       "      <th>file</th>\n",
       "      <th>message</th>\n",
       "    </tr>\n",
       "  </thead>\n",
       "  <tbody>\n",
       "    <tr>\n",
       "      <th>186822</th>\n",
       "      <td>jones-t/all_documents/634.</td>\n",
       "      <td>Message-ID: &lt;17820178.1075846925335.JavaMail.e...</td>\n",
       "    </tr>\n",
       "    <tr>\n",
       "      <th>308790</th>\n",
       "      <td>mann-k/all_documents/5690.</td>\n",
       "      <td>Message-ID: &lt;29110382.1075845717882.JavaMail.e...</td>\n",
       "    </tr>\n",
       "    <tr>\n",
       "      <th>82383</th>\n",
       "      <td>dasovich-j/sent/423.</td>\n",
       "      <td>Message-ID: &lt;6812040.1075843194135.JavaMail.ev...</td>\n",
       "    </tr>\n",
       "    <tr>\n",
       "      <th>227299</th>\n",
       "      <td>kaminski-v/var/63.</td>\n",
       "      <td>Message-ID: &lt;21547648.1075856642126.JavaMail.e...</td>\n",
       "    </tr>\n",
       "    <tr>\n",
       "      <th>301824</th>\n",
       "      <td>mann-k/_sent_mail/3208.</td>\n",
       "      <td>Message-ID: &lt;12684200.1075846107179.JavaMail.e...</td>\n",
       "    </tr>\n",
       "  </tbody>\n",
       "</table>\n",
       "</div>"
      ],
      "text/plain": [
       "                              file  \\\n",
       "186822  jones-t/all_documents/634.   \n",
       "308790  mann-k/all_documents/5690.   \n",
       "82383         dasovich-j/sent/423.   \n",
       "227299          kaminski-v/var/63.   \n",
       "301824     mann-k/_sent_mail/3208.   \n",
       "\n",
       "                                                  message  \n",
       "186822  Message-ID: <17820178.1075846925335.JavaMail.e...  \n",
       "308790  Message-ID: <29110382.1075845717882.JavaMail.e...  \n",
       "82383   Message-ID: <6812040.1075843194135.JavaMail.ev...  \n",
       "227299  Message-ID: <21547648.1075856642126.JavaMail.e...  \n",
       "301824  Message-ID: <12684200.1075846107179.JavaMail.e...  "
      ]
     },
     "execution_count": 3,
     "metadata": {},
     "output_type": "execute_result"
    }
   ],
   "source": [
    "email_subset.head()"
   ]
  },
  {
   "cell_type": "code",
   "execution_count": 4,
   "metadata": {},
   "outputs": [],
   "source": [
    "# function to split email text from the message column\n",
    "def split_message_text(raw_message):\n",
    "    lines=raw_message.split('\\n')\n",
    "    email_info={}\n",
    "    keys_needed=['from','to']\n",
    "    combined_msg=''\n",
    "    for line in lines:\n",
    "        if ':' not in line:\n",
    "            combined_msg += line.strip()\n",
    "            email_info['email'] = combined_msg\n",
    "        else:\n",
    "            pairs=line.split(':')\n",
    "            keys=pairs[0].lower()\n",
    "            values=pairs[1].strip()\n",
    "            if keys in keys_needed:\n",
    "                email_info[keys]=values\n",
    "        \n",
    "    return email_info"
   ]
  },
  {
   "cell_type": "code",
   "execution_count": 5,
   "metadata": {},
   "outputs": [],
   "source": [
    "def get_email_content(messages):\n",
    "    email_content = [split_message_text(raw_message) for raw_message in messages]\n",
    "    return email_content"
   ]
  },
  {
   "cell_type": "code",
   "execution_count": 6,
   "metadata": {},
   "outputs": [],
   "source": [
    "# Get the required columns from the main dataset\n",
    "email_df = pd.DataFrame(get_email_content(email_subset.message))"
   ]
  },
  {
   "cell_type": "code",
   "execution_count": 7,
   "metadata": {},
   "outputs": [
    {
     "data": {
      "text/html": [
       "<div>\n",
       "<style scoped>\n",
       "    .dataframe tbody tr th:only-of-type {\n",
       "        vertical-align: middle;\n",
       "    }\n",
       "\n",
       "    .dataframe tbody tr th {\n",
       "        vertical-align: top;\n",
       "    }\n",
       "\n",
       "    .dataframe thead th {\n",
       "        text-align: right;\n",
       "    }\n",
       "</style>\n",
       "<table border=\"1\" class=\"dataframe\">\n",
       "  <thead>\n",
       "    <tr style=\"text-align: right;\">\n",
       "      <th></th>\n",
       "      <th>from</th>\n",
       "      <th>to</th>\n",
       "      <th>email</th>\n",
       "    </tr>\n",
       "  </thead>\n",
       "  <tbody>\n",
       "    <tr>\n",
       "      <th>0</th>\n",
       "      <td>tana.jones@enron.com</td>\n",
       "      <td>alicia.goodrow@enron.com</td>\n",
       "      <td>It would be nice if you could be at my dinner,...</td>\n",
       "    </tr>\n",
       "    <tr>\n",
       "      <th>1</th>\n",
       "      <td>Sheila Tweed@ECT on 05/15/2001 06</td>\n",
       "      <td>Kay Mann/Corp/Enron@ENRON</td>\n",
       "      <td>Absolutely.Good point!  Can Peter start to dra...</td>\n",
       "    </tr>\n",
       "    <tr>\n",
       "      <th>2</th>\n",
       "      <td>jeff.dasovich@enron.com</td>\n",
       "      <td>christine.piesco@oracle.com</td>\n",
       "      <td>My apologies.  My schedule melted down after w...</td>\n",
       "    </tr>\n",
       "    <tr>\n",
       "      <th>3</th>\n",
       "      <td>tanya.tamarchenko@enron.com</td>\n",
       "      <td>Richard Lewis/LON/ECT@ECT, James New/LON/ECT@E...</td>\n",
       "      <td>Vince,UK VAR breached the limit last week.UK t...</td>\n",
       "    </tr>\n",
       "    <tr>\n",
       "      <th>4</th>\n",
       "      <td>kay.mann@enron.com</td>\n",
       "      <td>Don Hammond/PDX/ECT@ECT, Jody Blackburn/PDX/EC...</td>\n",
       "      <td>Any problems/comments?AM ---------------------...</td>\n",
       "    </tr>\n",
       "  </tbody>\n",
       "</table>\n",
       "</div>"
      ],
      "text/plain": [
       "                                from  \\\n",
       "0               tana.jones@enron.com   \n",
       "1  Sheila Tweed@ECT on 05/15/2001 06   \n",
       "2            jeff.dasovich@enron.com   \n",
       "3        tanya.tamarchenko@enron.com   \n",
       "4                 kay.mann@enron.com   \n",
       "\n",
       "                                                  to  \\\n",
       "0                           alicia.goodrow@enron.com   \n",
       "1                          Kay Mann/Corp/Enron@ENRON   \n",
       "2                        christine.piesco@oracle.com   \n",
       "3  Richard Lewis/LON/ECT@ECT, James New/LON/ECT@E...   \n",
       "4  Don Hammond/PDX/ECT@ECT, Jody Blackburn/PDX/EC...   \n",
       "\n",
       "                                               email  \n",
       "0  It would be nice if you could be at my dinner,...  \n",
       "1  Absolutely.Good point!  Can Peter start to dra...  \n",
       "2  My apologies.  My schedule melted down after w...  \n",
       "3  Vince,UK VAR breached the limit last week.UK t...  \n",
       "4  Any problems/comments?AM ---------------------...  "
      ]
     },
     "execution_count": 7,
     "metadata": {},
     "output_type": "execute_result"
    }
   ],
   "source": [
    "email_df.head()"
   ]
  },
  {
   "cell_type": "code",
   "execution_count": 8,
   "metadata": {},
   "outputs": [
    {
     "name": "stdout",
     "output_type": "stream",
     "text": [
      "<class 'pandas.core.frame.DataFrame'>\n",
      "RangeIndex: 10348 entries, 0 to 10347\n",
      "Data columns (total 3 columns):\n",
      " #   Column  Non-Null Count  Dtype \n",
      "---  ------  --------------  ----- \n",
      " 0   from    10348 non-null  object\n",
      " 1   to      9916 non-null   object\n",
      " 2   email   10348 non-null  object\n",
      "dtypes: object(3)\n",
      "memory usage: 242.7+ KB\n"
     ]
    }
   ],
   "source": [
    "# Checking for null values\n",
    "email_df.info()"
   ]
  },
  {
   "cell_type": "code",
   "execution_count": 9,
   "metadata": {},
   "outputs": [],
   "source": [
    "# creating new dataframe with email text alone\n",
    "df = pd.DataFrame(email_df['email'])"
   ]
  },
  {
   "cell_type": "code",
   "execution_count": 10,
   "metadata": {},
   "outputs": [
    {
     "data": {
      "text/html": [
       "<div>\n",
       "<style scoped>\n",
       "    .dataframe tbody tr th:only-of-type {\n",
       "        vertical-align: middle;\n",
       "    }\n",
       "\n",
       "    .dataframe tbody tr th {\n",
       "        vertical-align: top;\n",
       "    }\n",
       "\n",
       "    .dataframe thead th {\n",
       "        text-align: right;\n",
       "    }\n",
       "</style>\n",
       "<table border=\"1\" class=\"dataframe\">\n",
       "  <thead>\n",
       "    <tr style=\"text-align: right;\">\n",
       "      <th></th>\n",
       "      <th>email</th>\n",
       "    </tr>\n",
       "  </thead>\n",
       "  <tbody>\n",
       "    <tr>\n",
       "      <th>0</th>\n",
       "      <td>It would be nice if you could be at my dinner,...</td>\n",
       "    </tr>\n",
       "    <tr>\n",
       "      <th>1</th>\n",
       "      <td>Absolutely.Good point!  Can Peter start to dra...</td>\n",
       "    </tr>\n",
       "    <tr>\n",
       "      <th>2</th>\n",
       "      <td>My apologies.  My schedule melted down after w...</td>\n",
       "    </tr>\n",
       "    <tr>\n",
       "      <th>3</th>\n",
       "      <td>Vince,UK VAR breached the limit last week.UK t...</td>\n",
       "    </tr>\n",
       "    <tr>\n",
       "      <th>4</th>\n",
       "      <td>Any problems/comments?AM ---------------------...</td>\n",
       "    </tr>\n",
       "  </tbody>\n",
       "</table>\n",
       "</div>"
      ],
      "text/plain": [
       "                                               email\n",
       "0  It would be nice if you could be at my dinner,...\n",
       "1  Absolutely.Good point!  Can Peter start to dra...\n",
       "2  My apologies.  My schedule melted down after w...\n",
       "3  Vince,UK VAR breached the limit last week.UK t...\n",
       "4  Any problems/comments?AM ---------------------..."
      ]
     },
     "execution_count": 10,
     "metadata": {},
     "output_type": "execute_result"
    }
   ],
   "source": [
    "df.head()"
   ]
  },
  {
   "cell_type": "code",
   "execution_count": 11,
   "metadata": {},
   "outputs": [],
   "source": [
    "# Data cleaning - removing punctuations and converting to lower cases\n",
    "df.email = df.email.apply(lambda x: pd.Series(re.sub(r'[^a-z\\s]', ' ',x.lower())))"
   ]
  },
  {
   "cell_type": "code",
   "execution_count": 12,
   "metadata": {},
   "outputs": [
    {
     "data": {
      "text/html": [
       "<div>\n",
       "<style scoped>\n",
       "    .dataframe tbody tr th:only-of-type {\n",
       "        vertical-align: middle;\n",
       "    }\n",
       "\n",
       "    .dataframe tbody tr th {\n",
       "        vertical-align: top;\n",
       "    }\n",
       "\n",
       "    .dataframe thead th {\n",
       "        text-align: right;\n",
       "    }\n",
       "</style>\n",
       "<table border=\"1\" class=\"dataframe\">\n",
       "  <thead>\n",
       "    <tr style=\"text-align: right;\">\n",
       "      <th></th>\n",
       "      <th>email</th>\n",
       "    </tr>\n",
       "  </thead>\n",
       "  <tbody>\n",
       "    <tr>\n",
       "      <th>0</th>\n",
       "      <td>it would be nice if you could be at my dinner ...</td>\n",
       "    </tr>\n",
       "    <tr>\n",
       "      <th>1</th>\n",
       "      <td>absolutely good point   can peter start to dra...</td>\n",
       "    </tr>\n",
       "    <tr>\n",
       "      <th>2</th>\n",
       "      <td>my apologies   my schedule melted down after w...</td>\n",
       "    </tr>\n",
       "    <tr>\n",
       "      <th>3</th>\n",
       "      <td>vince uk var breached the limit last week uk t...</td>\n",
       "    </tr>\n",
       "    <tr>\n",
       "      <th>4</th>\n",
       "      <td>any problems comments am                      ...</td>\n",
       "    </tr>\n",
       "  </tbody>\n",
       "</table>\n",
       "</div>"
      ],
      "text/plain": [
       "                                               email\n",
       "0  it would be nice if you could be at my dinner ...\n",
       "1  absolutely good point   can peter start to dra...\n",
       "2  my apologies   my schedule melted down after w...\n",
       "3  vince uk var breached the limit last week uk t...\n",
       "4  any problems comments am                      ..."
      ]
     },
     "execution_count": 12,
     "metadata": {},
     "output_type": "execute_result"
    }
   ],
   "source": [
    "df.head()"
   ]
  },
  {
   "cell_type": "code",
   "execution_count": 13,
   "metadata": {},
   "outputs": [],
   "source": [
    "# Spacy import\n",
    "import spacy\n",
    "from spacy.lang.en.stop_words import STOP_WORDS\n",
    "nlp = spacy.load(\"en_core_web_sm\", disable=['parser','ner'])"
   ]
  },
  {
   "cell_type": "code",
   "execution_count": 14,
   "metadata": {},
   "outputs": [],
   "source": [
    "# Removing stop words and lemmatizing the tokens of the email text for each document using Spacy\n",
    "def normalize(doc, lowercase, remove_stopwords):\n",
    "    if lowercase:\n",
    "        doc = doc.lower()\n",
    "    doc = nlp(doc)\n",
    "    lemmatized = list()\n",
    "    for token in doc:\n",
    "        lemma = token.lemma_.strip()\n",
    "        if lemma:\n",
    "            if not remove_stopwords or (remove_stopwords and lemma not in STOP_WORDS):\n",
    "                lemmatized.append(lemma)\n",
    "    return \" \".join(lemmatized)"
   ]
  },
  {
   "cell_type": "code",
   "execution_count": 15,
   "metadata": {},
   "outputs": [],
   "source": [
    "df['email'] = df['email'].apply(normalize, lowercase=True, remove_stopwords=True)"
   ]
  },
  {
   "cell_type": "code",
   "execution_count": 16,
   "metadata": {},
   "outputs": [
    {
     "data": {
      "text/html": [
       "<div>\n",
       "<style scoped>\n",
       "    .dataframe tbody tr th:only-of-type {\n",
       "        vertical-align: middle;\n",
       "    }\n",
       "\n",
       "    .dataframe tbody tr th {\n",
       "        vertical-align: top;\n",
       "    }\n",
       "\n",
       "    .dataframe thead th {\n",
       "        text-align: right;\n",
       "    }\n",
       "</style>\n",
       "<table border=\"1\" class=\"dataframe\">\n",
       "  <thead>\n",
       "    <tr style=\"text-align: right;\">\n",
       "      <th></th>\n",
       "      <th>email</th>\n",
       "    </tr>\n",
       "  </thead>\n",
       "  <tbody>\n",
       "    <tr>\n",
       "      <th>0</th>\n",
       "      <td>nice dinner I probably win t knowanyone anytim...</td>\n",
       "    </tr>\n",
       "    <tr>\n",
       "      <th>1</th>\n",
       "      <td>absolutely good point peter start draft overri...</td>\n",
       "    </tr>\n",
       "    <tr>\n",
       "      <th>2</th>\n",
       "      <td>apology schedule melt talk monday swhere folk ...</td>\n",
       "    </tr>\n",
       "    <tr>\n",
       "      <th>3</th>\n",
       "      <td>vince uk var breach limit week uk trader ask r...</td>\n",
       "    </tr>\n",
       "    <tr>\n",
       "      <th>4</th>\n",
       "      <td>problem comment dale rasmussen ectmann corp en...</td>\n",
       "    </tr>\n",
       "  </tbody>\n",
       "</table>\n",
       "</div>"
      ],
      "text/plain": [
       "                                               email\n",
       "0  nice dinner I probably win t knowanyone anytim...\n",
       "1  absolutely good point peter start draft overri...\n",
       "2  apology schedule melt talk monday swhere folk ...\n",
       "3  vince uk var breach limit week uk trader ask r...\n",
       "4  problem comment dale rasmussen ectmann corp en..."
      ]
     },
     "execution_count": 16,
     "metadata": {},
     "output_type": "execute_result"
    }
   ],
   "source": [
    "df.head()"
   ]
  },
  {
   "cell_type": "markdown",
   "metadata": {},
   "source": [
    "### Document Term Matrix"
   ]
  },
  {
   "cell_type": "code",
   "execution_count": 17,
   "metadata": {},
   "outputs": [],
   "source": [
    "# Import Count vectorizer\n",
    "from sklearn.feature_extraction.text import CountVectorizer"
   ]
  },
  {
   "cell_type": "code",
   "execution_count": 18,
   "metadata": {},
   "outputs": [],
   "source": [
    "cv = CountVectorizer(max_df=0.95,min_df=5,stop_words='english')"
   ]
  },
  {
   "cell_type": "code",
   "execution_count": 19,
   "metadata": {},
   "outputs": [],
   "source": [
    "# document term matrix\n",
    "dtm = cv.fit_transform(df['email'])"
   ]
  },
  {
   "cell_type": "code",
   "execution_count": 20,
   "metadata": {},
   "outputs": [
    {
     "data": {
      "text/plain": [
       "<10348x14926 sparse matrix of type '<class 'numpy.int64'>'\n",
       "\twith 689372 stored elements in Compressed Sparse Row format>"
      ]
     },
     "execution_count": 20,
     "metadata": {},
     "output_type": "execute_result"
    }
   ],
   "source": [
    "dtm"
   ]
  },
  {
   "cell_type": "markdown",
   "metadata": {},
   "source": [
    "### Topic modelling -  LDA Model"
   ]
  },
  {
   "cell_type": "code",
   "execution_count": 21,
   "metadata": {},
   "outputs": [],
   "source": [
    "from sklearn.decomposition import LatentDirichletAllocation"
   ]
  },
  {
   "cell_type": "code",
   "execution_count": 22,
   "metadata": {},
   "outputs": [],
   "source": [
    "lda = LatentDirichletAllocation(n_components=12,random_state=100)"
   ]
  },
  {
   "cell_type": "code",
   "execution_count": 23,
   "metadata": {},
   "outputs": [
    {
     "data": {
      "text/plain": [
       "LatentDirichletAllocation(n_components=12, random_state=100)"
      ]
     },
     "execution_count": 23,
     "metadata": {},
     "output_type": "execute_result"
    }
   ],
   "source": [
    "lda.fit(dtm)"
   ]
  },
  {
   "cell_type": "code",
   "execution_count": 24,
   "metadata": {},
   "outputs": [
    {
     "data": {
      "text/plain": [
       "14926"
      ]
     },
     "execution_count": 24,
     "metadata": {},
     "output_type": "execute_result"
    }
   ],
   "source": [
    "len(cv.get_feature_names())"
   ]
  },
  {
   "cell_type": "code",
   "execution_count": 25,
   "metadata": {},
   "outputs": [
    {
     "name": "stdout",
     "output_type": "stream",
     "text": [
      "The top 15 words for topic # 0 are:\n",
      "['com', 'wr', 'sunday', 'good', 'game', 'net', 'mail', 'update', 'yahoo', 'week', 'hotmail', 'aol', 'haas', 'berkeley', 'edu']\n",
      "\n",
      "\n",
      "The top 15 words for topic # 1 are:\n",
      "['run', 'like', 'ena', 'play', 'point', 'ut', 'product', 'allow', 'pass', 'texas', 'tx', 'year', 'team', 'game', 'way']\n",
      "\n",
      "\n",
      "The top 15 words for topic # 2 are:\n",
      "['rate', 'need', 'deal', 'day', 'storage', 'volume', 'point', 'contract', 'pipeline', 'capacity', 'com', 'image', 'et', 'gas', 'enron']\n",
      "\n",
      "\n",
      "The top 15 words for topic # 3 are:\n",
      "['day', 'deal', 'jones', 'million', 'trade', 'trading', 'transaction', 'business', 'year', 'new', 'stock', 'market', 'price', 'company', 'enron']\n",
      "\n",
      "\n",
      "The top 15 words for topic # 4 are:\n",
      "['look', 'day', 'good', 'deal', 'want', 'like', 'think', 'work', 'time', 'let', 'need', 'original', 'message', 'thank', 'know']\n",
      "\n",
      "\n",
      "The top 15 words for topic # 5 are:\n",
      "['ferc', 'commission', 'rate', 'enron', 'cost', 'plant', 'gas', 'electricity', 'price', 'utility', 'market', 'california', 'state', 'energy', 'power']\n",
      "\n",
      "\n",
      "The top 15 words for topic # 6 are:\n",
      "['scott', 'paul', 'steve', 'schedule', 'richard', 'net', 'robert', 'michael', 'david', 'error', 'mark', 'john', 'mail', 'enron', 'com']\n",
      "\n",
      "\n",
      "The top 15 words for topic # 7 are:\n",
      "['know', 'contract', 'draft', 'attach', 'send', 'review', 'original', 'corp', 'copy', 'mail', 'doc', 'thank', 'message', 'agreement', 'enron']\n",
      "\n",
      "\n",
      "The top 15 words for topic # 8 are:\n",
      "['world', 'houston', 'enron', 'mr', 'com', 'day', 'time', 'free', 'year', 'new', 'quigley', 'image', 'ou', 'cn', 'omni']\n",
      "\n",
      "\n",
      "The top 15 words for topic # 9 are:\n",
      "['john', 'mark', 'david', 'communication', 'lon', 'forward', 'ees', 'enronxgate', 'ee', 'development', 'na', 'corp', 'hou', 'enron', 'ect']\n",
      "\n",
      "\n",
      "The top 15 words for topic # 10 are:\n",
      "['access', 'new', 'provide', 'use', 'message', 'prc', 'business', 'email', 'employee', 'position', 'active', 'dec', 'report', 'information', 'enron']\n",
      "\n",
      "\n",
      "The top 15 words for topic # 11 are:\n",
      "['com', 'management', 'technology', 'width', 'market', 'million', 'size', 'table', 'new', 'service', 'company', 'br', 'font', 'tr', 'td']\n",
      "\n",
      "\n"
     ]
    }
   ],
   "source": [
    "# grab the highest probability words from each topic\n",
    "for index,topic in enumerate(lda.components_):\n",
    "    print(f'The top 15 words for topic # {index} are:')\n",
    "    print([cv.get_feature_names()[i] for i in topic.argsort()[-15:]])\n",
    "    print('\\n')"
   ]
  },
  {
   "cell_type": "code",
   "execution_count": 26,
   "metadata": {},
   "outputs": [],
   "source": [
    "topic_results = lda.transform(dtm)"
   ]
  },
  {
   "cell_type": "code",
   "execution_count": 27,
   "metadata": {},
   "outputs": [],
   "source": [
    "# mapping the relevant topics to each document\n",
    "email_df['Topic'] = topic_results.argmax(axis=1)"
   ]
  },
  {
   "cell_type": "code",
   "execution_count": 28,
   "metadata": {},
   "outputs": [
    {
     "data": {
      "text/html": [
       "<div>\n",
       "<style scoped>\n",
       "    .dataframe tbody tr th:only-of-type {\n",
       "        vertical-align: middle;\n",
       "    }\n",
       "\n",
       "    .dataframe tbody tr th {\n",
       "        vertical-align: top;\n",
       "    }\n",
       "\n",
       "    .dataframe thead th {\n",
       "        text-align: right;\n",
       "    }\n",
       "</style>\n",
       "<table border=\"1\" class=\"dataframe\">\n",
       "  <thead>\n",
       "    <tr style=\"text-align: right;\">\n",
       "      <th></th>\n",
       "      <th>from</th>\n",
       "      <th>to</th>\n",
       "      <th>email</th>\n",
       "      <th>Topic</th>\n",
       "    </tr>\n",
       "  </thead>\n",
       "  <tbody>\n",
       "    <tr>\n",
       "      <th>6349</th>\n",
       "      <td>Kitchen, Louise</td>\n",
       "      <td>Perlman, Beth; Beck, Sally; Pickering, Mark; P...</td>\n",
       "      <td>I am not sure what New Start is? Any details?-...</td>\n",
       "      <td>4</td>\n",
       "    </tr>\n",
       "    <tr>\n",
       "      <th>3260</th>\n",
       "      <td>christie.patrick@enron.com</td>\n",
       "      <td>Lauren Iannarone/NY/ECT@ECT</td>\n",
       "      <td>paula.rieker@enron.com...FYI..  Christie.-----...</td>\n",
       "      <td>4</td>\n",
       "    </tr>\n",
       "    <tr>\n",
       "      <th>1109</th>\n",
       "      <td>Milenia I Soto &lt;misoto@juno.com&gt;@ENRON</td>\n",
       "      <td>Daffin, Margaret</td>\n",
       "      <td>FYIvince-----Original Message-----Here is what...</td>\n",
       "      <td>7</td>\n",
       "    </tr>\n",
       "    <tr>\n",
       "      <th>845</th>\n",
       "      <td>eric.bass@enron.com</td>\n",
       "      <td>\"'eric.bass@enron.com'\" &lt;eric.bass@enron.com&gt;</td>\n",
       "      <td>---------------------------AMEric,I'm interest...</td>\n",
       "      <td>4</td>\n",
       "    </tr>\n",
       "    <tr>\n",
       "      <th>4933</th>\n",
       "      <td>eddie.sera@enron.com</td>\n",
       "      <td>rebecca.carter@enron.com, tina.spiller@enron.com,</td>\n",
       "      <td>joannie.williamson@enron.com, tracy.ramsey@enr...</td>\n",
       "      <td>6</td>\n",
       "    </tr>\n",
       "  </tbody>\n",
       "</table>\n",
       "</div>"
      ],
      "text/plain": [
       "                                        from  \\\n",
       "6349                         Kitchen, Louise   \n",
       "3260              christie.patrick@enron.com   \n",
       "1109  Milenia I Soto <misoto@juno.com>@ENRON   \n",
       "845                      eric.bass@enron.com   \n",
       "4933                    eddie.sera@enron.com   \n",
       "\n",
       "                                                     to  \\\n",
       "6349  Perlman, Beth; Beck, Sally; Pickering, Mark; P...   \n",
       "3260                        Lauren Iannarone/NY/ECT@ECT   \n",
       "1109                                   Daffin, Margaret   \n",
       "845       \"'eric.bass@enron.com'\" <eric.bass@enron.com>   \n",
       "4933  rebecca.carter@enron.com, tina.spiller@enron.com,   \n",
       "\n",
       "                                                  email  Topic  \n",
       "6349  I am not sure what New Start is? Any details?-...      4  \n",
       "3260  paula.rieker@enron.com...FYI..  Christie.-----...      4  \n",
       "1109  FYIvince-----Original Message-----Here is what...      7  \n",
       "845   ---------------------------AMEric,I'm interest...      4  \n",
       "4933  joannie.williamson@enron.com, tracy.ramsey@enr...      6  "
      ]
     },
     "execution_count": 28,
     "metadata": {},
     "output_type": "execute_result"
    }
   ],
   "source": [
    "email_df.sample(5)"
   ]
  },
  {
   "cell_type": "code",
   "execution_count": 29,
   "metadata": {},
   "outputs": [],
   "source": [
    "# saving the output dataframe with topics to csv file for future use\n",
    "email_df.to_csv('email_df.csv',index=False)"
   ]
  },
  {
   "cell_type": "code",
   "execution_count": null,
   "metadata": {},
   "outputs": [],
   "source": []
  }
 ],
 "metadata": {
  "kernelspec": {
   "display_name": "Python 3",
   "language": "python",
   "name": "python3"
  },
  "language_info": {
   "codemirror_mode": {
    "name": "ipython",
    "version": 3
   },
   "file_extension": ".py",
   "mimetype": "text/x-python",
   "name": "python",
   "nbconvert_exporter": "python",
   "pygments_lexer": "ipython3",
   "version": "3.8.5"
  }
 },
 "nbformat": 4,
 "nbformat_minor": 4
}
