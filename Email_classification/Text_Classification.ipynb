{
 "cells": [
  {
   "cell_type": "markdown",
   "metadata": {},
   "source": [
    "### Enron email classification - Supervied learning\n",
    "\n",
    "Using 10k random records of Enron email data, I have labelled the topic number for each email with the help of Topic modelling(unsupervised learning) and got the labelled email data.\n",
    "\n",
    "I am going to do text classification of emails corresponding to its topic using supervised classification models."
   ]
  },
  {
   "cell_type": "code",
   "execution_count": 55,
   "metadata": {},
   "outputs": [],
   "source": [
    "# Imports\n",
    "import numpy as np\n",
    "import pandas as pd"
   ]
  },
  {
   "cell_type": "code",
   "execution_count": 2,
   "metadata": {},
   "outputs": [],
   "source": [
    "# getting labelled csv data after topic modelling \n",
    "df = pd.read_csv('email_df.csv')"
   ]
  },
  {
   "cell_type": "code",
   "execution_count": 3,
   "metadata": {},
   "outputs": [
    {
     "data": {
      "text/html": [
       "<div>\n",
       "<style scoped>\n",
       "    .dataframe tbody tr th:only-of-type {\n",
       "        vertical-align: middle;\n",
       "    }\n",
       "\n",
       "    .dataframe tbody tr th {\n",
       "        vertical-align: top;\n",
       "    }\n",
       "\n",
       "    .dataframe thead th {\n",
       "        text-align: right;\n",
       "    }\n",
       "</style>\n",
       "<table border=\"1\" class=\"dataframe\">\n",
       "  <thead>\n",
       "    <tr style=\"text-align: right;\">\n",
       "      <th></th>\n",
       "      <th>from</th>\n",
       "      <th>to</th>\n",
       "      <th>email</th>\n",
       "      <th>Topic</th>\n",
       "    </tr>\n",
       "  </thead>\n",
       "  <tbody>\n",
       "    <tr>\n",
       "      <th>0</th>\n",
       "      <td>tana.jones@enron.com</td>\n",
       "      <td>alicia.goodrow@enron.com</td>\n",
       "      <td>It would be nice if you could be at my dinner,...</td>\n",
       "      <td>4</td>\n",
       "    </tr>\n",
       "    <tr>\n",
       "      <th>1</th>\n",
       "      <td>Sheila Tweed@ECT on 05/15/2001 06</td>\n",
       "      <td>Kay Mann/Corp/Enron@ENRON</td>\n",
       "      <td>Absolutely.Good point!  Can Peter start to dra...</td>\n",
       "      <td>7</td>\n",
       "    </tr>\n",
       "    <tr>\n",
       "      <th>2</th>\n",
       "      <td>jeff.dasovich@enron.com</td>\n",
       "      <td>christine.piesco@oracle.com</td>\n",
       "      <td>My apologies.  My schedule melted down after w...</td>\n",
       "      <td>4</td>\n",
       "    </tr>\n",
       "    <tr>\n",
       "      <th>3</th>\n",
       "      <td>tanya.tamarchenko@enron.com</td>\n",
       "      <td>Richard Lewis/LON/ECT@ECT, James New/LON/ECT@E...</td>\n",
       "      <td>Vince,UK VAR breached the limit last week.UK t...</td>\n",
       "      <td>4</td>\n",
       "    </tr>\n",
       "    <tr>\n",
       "      <th>4</th>\n",
       "      <td>kay.mann@enron.com</td>\n",
       "      <td>Don Hammond/PDX/ECT@ECT, Jody Blackburn/PDX/EC...</td>\n",
       "      <td>Any problems/comments?AM ---------------------...</td>\n",
       "      <td>7</td>\n",
       "    </tr>\n",
       "  </tbody>\n",
       "</table>\n",
       "</div>"
      ],
      "text/plain": [
       "                                from  \\\n",
       "0               tana.jones@enron.com   \n",
       "1  Sheila Tweed@ECT on 05/15/2001 06   \n",
       "2            jeff.dasovich@enron.com   \n",
       "3        tanya.tamarchenko@enron.com   \n",
       "4                 kay.mann@enron.com   \n",
       "\n",
       "                                                  to  \\\n",
       "0                           alicia.goodrow@enron.com   \n",
       "1                          Kay Mann/Corp/Enron@ENRON   \n",
       "2                        christine.piesco@oracle.com   \n",
       "3  Richard Lewis/LON/ECT@ECT, James New/LON/ECT@E...   \n",
       "4  Don Hammond/PDX/ECT@ECT, Jody Blackburn/PDX/EC...   \n",
       "\n",
       "                                               email  Topic  \n",
       "0  It would be nice if you could be at my dinner,...      4  \n",
       "1  Absolutely.Good point!  Can Peter start to dra...      7  \n",
       "2  My apologies.  My schedule melted down after w...      4  \n",
       "3  Vince,UK VAR breached the limit last week.UK t...      4  \n",
       "4  Any problems/comments?AM ---------------------...      7  "
      ]
     },
     "execution_count": 3,
     "metadata": {},
     "output_type": "execute_result"
    }
   ],
   "source": [
    "df.head()"
   ]
  },
  {
   "cell_type": "code",
   "execution_count": 4,
   "metadata": {},
   "outputs": [
    {
     "data": {
      "text/plain": [
       "10348"
      ]
     },
     "execution_count": 4,
     "metadata": {},
     "output_type": "execute_result"
    }
   ],
   "source": [
    "len(df)"
   ]
  },
  {
   "cell_type": "code",
   "execution_count": 5,
   "metadata": {},
   "outputs": [],
   "source": [
    "# create new dataframe with the labels we want such as email and Topic\n",
    "email_df = df[['email','Topic']].copy()"
   ]
  },
  {
   "cell_type": "code",
   "execution_count": 6,
   "metadata": {},
   "outputs": [
    {
     "data": {
      "text/html": [
       "<div>\n",
       "<style scoped>\n",
       "    .dataframe tbody tr th:only-of-type {\n",
       "        vertical-align: middle;\n",
       "    }\n",
       "\n",
       "    .dataframe tbody tr th {\n",
       "        vertical-align: top;\n",
       "    }\n",
       "\n",
       "    .dataframe thead th {\n",
       "        text-align: right;\n",
       "    }\n",
       "</style>\n",
       "<table border=\"1\" class=\"dataframe\">\n",
       "  <thead>\n",
       "    <tr style=\"text-align: right;\">\n",
       "      <th></th>\n",
       "      <th>email</th>\n",
       "      <th>Topic</th>\n",
       "    </tr>\n",
       "  </thead>\n",
       "  <tbody>\n",
       "    <tr>\n",
       "      <th>0</th>\n",
       "      <td>It would be nice if you could be at my dinner,...</td>\n",
       "      <td>4</td>\n",
       "    </tr>\n",
       "    <tr>\n",
       "      <th>1</th>\n",
       "      <td>Absolutely.Good point!  Can Peter start to dra...</td>\n",
       "      <td>7</td>\n",
       "    </tr>\n",
       "    <tr>\n",
       "      <th>2</th>\n",
       "      <td>My apologies.  My schedule melted down after w...</td>\n",
       "      <td>4</td>\n",
       "    </tr>\n",
       "    <tr>\n",
       "      <th>3</th>\n",
       "      <td>Vince,UK VAR breached the limit last week.UK t...</td>\n",
       "      <td>4</td>\n",
       "    </tr>\n",
       "    <tr>\n",
       "      <th>4</th>\n",
       "      <td>Any problems/comments?AM ---------------------...</td>\n",
       "      <td>7</td>\n",
       "    </tr>\n",
       "  </tbody>\n",
       "</table>\n",
       "</div>"
      ],
      "text/plain": [
       "                                               email  Topic\n",
       "0  It would be nice if you could be at my dinner,...      4\n",
       "1  Absolutely.Good point!  Can Peter start to dra...      7\n",
       "2  My apologies.  My schedule melted down after w...      4\n",
       "3  Vince,UK VAR breached the limit last week.UK t...      4\n",
       "4  Any problems/comments?AM ---------------------...      7"
      ]
     },
     "execution_count": 6,
     "metadata": {},
     "output_type": "execute_result"
    }
   ],
   "source": [
    "email_df.head()"
   ]
  },
  {
   "cell_type": "code",
   "execution_count": 7,
   "metadata": {},
   "outputs": [
    {
     "data": {
      "text/plain": [
       "email    91\n",
       "Topic     0\n",
       "dtype: int64"
      ]
     },
     "execution_count": 7,
     "metadata": {},
     "output_type": "execute_result"
    }
   ],
   "source": [
    "# check for null values\n",
    "email_df.isnull().sum()"
   ]
  },
  {
   "cell_type": "code",
   "execution_count": 8,
   "metadata": {},
   "outputs": [],
   "source": [
    "# drop null values\n",
    "email_df.dropna(inplace=True)"
   ]
  },
  {
   "cell_type": "code",
   "execution_count": 9,
   "metadata": {},
   "outputs": [
    {
     "name": "stdout",
     "output_type": "stream",
     "text": [
      "[]\n"
     ]
    }
   ],
   "source": [
    "# check for blank spaces in email column\n",
    "blanks = []\n",
    "\n",
    "for i,email,top in email_df.itertuples():\n",
    "    if email.isspace():\n",
    "        blanks.append(i)\n",
    "print(blanks)"
   ]
  },
  {
   "cell_type": "code",
   "execution_count": 10,
   "metadata": {},
   "outputs": [],
   "source": [
    "#df.drop(blanks,inplace=True)"
   ]
  },
  {
   "cell_type": "code",
   "execution_count": 11,
   "metadata": {},
   "outputs": [
    {
     "data": {
      "text/plain": [
       "(10257, 2)"
      ]
     },
     "execution_count": 11,
     "metadata": {},
     "output_type": "execute_result"
    }
   ],
   "source": [
    "email_df.shape"
   ]
  },
  {
   "cell_type": "code",
   "execution_count": 12,
   "metadata": {},
   "outputs": [],
   "source": [
    "# train test split\n",
    "from sklearn.model_selection import train_test_split\n",
    "X = email_df['email']\n",
    "y = email_df['Topic']\n",
    "\n",
    "X_train, X_test, y_train, y_test = train_test_split(X,y,test_size=0.3,random_state=101)"
   ]
  },
  {
   "cell_type": "code",
   "execution_count": 17,
   "metadata": {},
   "outputs": [],
   "source": [
    "# necessary imports\n",
    "from sklearn.pipeline import Pipeline\n",
    "from sklearn.feature_extraction.text import TfidfVectorizer,CountVectorizer\n",
    "from sklearn.metrics import confusion_matrix,classification_report"
   ]
  },
  {
   "cell_type": "code",
   "execution_count": 56,
   "metadata": {},
   "outputs": [],
   "source": [
    "# using linear SVC model with Count vectorizer\n",
    "from sklearn.svm import LinearSVC\n",
    "text_clf = Pipeline([('cv',CountVectorizer(max_df=.95,min_df=2,stop_words='english')),\n",
    "                     ('clf',LinearSVC(random_state=10,class_weight='balanced'))])"
   ]
  },
  {
   "cell_type": "code",
   "execution_count": 57,
   "metadata": {},
   "outputs": [
    {
     "data": {
      "text/plain": [
       "Pipeline(steps=[('cv',\n",
       "                 CountVectorizer(max_df=0.95, min_df=2, stop_words='english')),\n",
       "                ('clf', LinearSVC(class_weight='balanced', random_state=10))])"
      ]
     },
     "execution_count": 57,
     "metadata": {},
     "output_type": "execute_result"
    }
   ],
   "source": [
    "# training the model\n",
    "text_clf.fit(X_train,y_train)"
   ]
  },
  {
   "cell_type": "code",
   "execution_count": 58,
   "metadata": {},
   "outputs": [],
   "source": [
    "# predictions\n",
    "y_pred = text_clf.predict(X_test)"
   ]
  },
  {
   "cell_type": "code",
   "execution_count": 59,
   "metadata": {},
   "outputs": [
    {
     "name": "stdout",
     "output_type": "stream",
     "text": [
      "[[ 63   6   0   2  20   0   9   2   2   1   1   0]\n",
      " [  9  19   2   4   7   0   0   5   1   1   0   0]\n",
      " [ 10   1 111   1  13   3   9   8   1   2   1   3]\n",
      " [  5   1   5  60  15   6   2   3   4   3   6   1]\n",
      " [ 35  10   7  10 846   9   8  43  13   6  14   4]\n",
      " [  7   0   5   3  22 109   5  12   0   4   2   0]\n",
      " [ 10   3   5   0  14   2 388   8   1   5   5   1]\n",
      " [ 14   5   6   4  54   1  14 415   3   5   4   0]\n",
      " [ 13   2   2   1  19   4   1   4  78   0   2   0]\n",
      " [  2   3   3   0   4   1   4   6   0 116   3   0]\n",
      " [  7   3   1   4  20   4   1  15   8   0 116   2]\n",
      " [  5   0   0   5   4   2   0   2   4   0   6  32]]\n"
     ]
    }
   ],
   "source": [
    "# confusion matrix\n",
    "print(confusion_matrix(y_test, y_pred))"
   ]
  },
  {
   "cell_type": "code",
   "execution_count": 49,
   "metadata": {},
   "outputs": [
    {
     "name": "stdout",
     "output_type": "stream",
     "text": [
      "              precision    recall  f1-score   support\n",
      "\n",
      "           0       0.36      0.61      0.45       106\n",
      "           1       0.37      0.40      0.38        48\n",
      "           2       0.74      0.71      0.72       163\n",
      "           3       0.61      0.53      0.57       111\n",
      "           4       0.82      0.83      0.83      1005\n",
      "           5       0.78      0.65      0.71       169\n",
      "           6       0.89      0.88      0.88       442\n",
      "           7       0.79      0.80      0.79       525\n",
      "           8       0.68      0.61      0.64       126\n",
      "           9       0.80      0.82      0.81       142\n",
      "          10       0.73      0.65      0.69       181\n",
      "          11       0.70      0.53      0.60        60\n",
      "\n",
      "    accuracy                           0.77      3078\n",
      "   macro avg       0.69      0.67      0.67      3078\n",
      "weighted avg       0.77      0.77      0.77      3078\n",
      "\n"
     ]
    }
   ],
   "source": [
    "# classification report\n",
    "print(classification_report(y_test,y_pred))"
   ]
  },
  {
   "cell_type": "code",
   "execution_count": 65,
   "metadata": {},
   "outputs": [],
   "source": [
    "# using linear SVC model with Tf-Idf vectorizer\n",
    "from sklearn.svm import LinearSVC\n",
    "text_clf = Pipeline([('tfidf',TfidfVectorizer(max_df=.95,min_df=2,stop_words='english')),('clf',LinearSVC(random_state=10,class_weight='balanced'))])"
   ]
  },
  {
   "cell_type": "code",
   "execution_count": 66,
   "metadata": {},
   "outputs": [
    {
     "data": {
      "text/plain": [
       "Pipeline(steps=[('tfidf',\n",
       "                 TfidfVectorizer(max_df=0.95, min_df=2, stop_words='english')),\n",
       "                ('clf', LinearSVC(class_weight='balanced', random_state=10))])"
      ]
     },
     "execution_count": 66,
     "metadata": {},
     "output_type": "execute_result"
    }
   ],
   "source": [
    "# model training\n",
    "text_clf.fit(X_train,y_train)"
   ]
  },
  {
   "cell_type": "code",
   "execution_count": 67,
   "metadata": {},
   "outputs": [],
   "source": [
    "# predictions\n",
    "y_pred = text_clf.predict(X_test)"
   ]
  },
  {
   "cell_type": "code",
   "execution_count": 68,
   "metadata": {},
   "outputs": [
    {
     "name": "stdout",
     "output_type": "stream",
     "text": [
      "[[ 67   2   0   6  18   0   6   4   1   1   1   0]\n",
      " [  9  21   2   2   9   1   0   3   0   1   0   0]\n",
      " [  5   0 129   1  10   3   7   5   1   1   0   1]\n",
      " [  2   1   1  73  12   1   0   6   8   3   3   1]\n",
      " [ 19   5   7  10 875  10  10  41  11   5   9   3]\n",
      " [  7   0   3   1  12 129   3   9   1   2   2   0]\n",
      " [  3   2   3   1  12   4 406   6   0   4   1   0]\n",
      " [  9   0   6   3  45   2  13 434   0   8   5   0]\n",
      " [  9   0   0   5  12   3   1   3  90   0   3   0]\n",
      " [  1   2   1   1   4   0   0   6   0 126   0   1]\n",
      " [  4   3   0   0  10   0   2  15   5   0 141   1]\n",
      " [  3   0   1   4   5   0   0   4   2   0   6  35]]\n"
     ]
    }
   ],
   "source": [
    "# confusion matrix\n",
    "print(confusion_matrix(y_test, y_pred))"
   ]
  },
  {
   "cell_type": "code",
   "execution_count": 69,
   "metadata": {},
   "outputs": [
    {
     "name": "stdout",
     "output_type": "stream",
     "text": [
      "              precision    recall  f1-score   support\n",
      "\n",
      "           0       0.49      0.63      0.55       106\n",
      "           1       0.58      0.44      0.50        48\n",
      "           2       0.84      0.79      0.82       163\n",
      "           3       0.68      0.66      0.67       111\n",
      "           4       0.85      0.87      0.86      1005\n",
      "           5       0.84      0.76      0.80       169\n",
      "           6       0.91      0.92      0.91       442\n",
      "           7       0.81      0.83      0.82       525\n",
      "           8       0.76      0.71      0.73       126\n",
      "           9       0.83      0.89      0.86       142\n",
      "          10       0.82      0.78      0.80       181\n",
      "          11       0.83      0.58      0.69        60\n",
      "\n",
      "    accuracy                           0.82      3078\n",
      "   macro avg       0.77      0.74      0.75      3078\n",
      "weighted avg       0.82      0.82      0.82      3078\n",
      "\n"
     ]
    }
   ],
   "source": [
    "# classification report\n",
    "print(classification_report(y_test,y_pred))"
   ]
  },
  {
   "cell_type": "markdown",
   "metadata": {},
   "source": [
    "After trying many classification models, Linear SVC model outperforms all the other models. Based on the classification report, Linear SVC with Tf-idf vectorizer performs well than Linear SVC with count vectorizer. Hence Linear SVC with Tf-idf can be used for this classification for better results."
   ]
  }
 ],
 "metadata": {
  "kernelspec": {
   "display_name": "Python 3",
   "language": "python",
   "name": "python3"
  },
  "language_info": {
   "codemirror_mode": {
    "name": "ipython",
    "version": 3
   },
   "file_extension": ".py",
   "mimetype": "text/x-python",
   "name": "python",
   "nbconvert_exporter": "python",
   "pygments_lexer": "ipython3",
   "version": "3.8.5"
  }
 },
 "nbformat": 4,
 "nbformat_minor": 4
}
